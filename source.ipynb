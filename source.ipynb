{
  "nbformat": 4,
  "nbformat_minor": 0,
  "metadata": {
    "colab": {
      "provenance": []
    },
    "kernelspec": {
      "name": "python3",
      "display_name": "Python 3"
    },
    "language_info": {
      "name": "python"
    }
  },
  "cells": [
    {
      "cell_type": "code",
      "source": [
        "!apt-get install openjdk-8-jdk-headless -qq > /dev/null\n",
        "!wget -q http://archive.apache.org/dist/spark/spark-3.1.1/spark-3.1.1-bin-hadoop3.2.tgz\n",
        "!tar xf spark-3.1.1-bin-hadoop3.2.tgz\n",
        "!pip install -q findspark\n",
        "\n",
        "import os\n",
        "os.environ[\"JAVA_HOME\"] = \"/usr/lib/jvm/java-8-openjdk-amd64\"\n",
        "os.environ[\"SPARK_HOME\"] = \"/content/spark-3.1.1-bin-hadoop3.2\"\n",
        "\n",
        "import findspark\n",
        "findspark.init()"
      ],
      "metadata": {
        "id": "GsegfoAd_8dI"
      },
      "execution_count": null,
      "outputs": []
    },
    {
      "cell_type": "code",
      "source": [
        "from pyspark import SparkContext\n",
        "from pyspark.sql import SQLContext\n",
        "\n",
        "sc = SparkContext(\"local\", \"Filter app\")\n",
        "sqlc = SQLContext(sc)\n",
        "\n",
        "sqlc.sql(\"CREATE DATABASE IF NOT EXISTS BIGDATA\")"
      ],
      "metadata": {
        "id": "6t5c0Ob5_-XY"
      },
      "execution_count": null,
      "outputs": []
    },
    {
      "cell_type": "code",
      "source": [
        "import requests\n",
        "from bs4 import BeautifulSoup\n",
        "from urllib.parse import urlparse\n",
        "\n",
        "page = 'https://tdtu.edu.vn/'\n",
        "domain = 'tdtu.edu.vn'\n",
        "limit = 1000\n",
        "\n",
        "pages = set() | {page}\n",
        "count = 0\n",
        "\n",
        "def run(page):\n",
        "  print(page)\n",
        "  global pages, count\n",
        "\n",
        "  data = []\n",
        "\n",
        "  pageParse = urlparse(page)\n",
        "\n",
        "  # các Successor đã tồn tại thuộc 1 Page\n",
        "  successors = set()\n",
        "\n",
        "  # lấy source từ page\n",
        "  resp = requests.get(page)\n",
        "\n",
        "  # parser sourse thô sang html\n",
        "  soup = BeautifulSoup(resp.content, \"html.parser\")\n",
        "\n",
        "  # lấy các thẻ a có bắt đầu bằng \"/\" hoặc \"https://en.wikipedia.org\"\n",
        "  links = soup.select('a[href^=\"/\"], a[href^=\"https://\"]')\n",
        "\n",
        "  for link in links:\n",
        "    # lấy giá trị thuộc tính của thẻ\n",
        "    successor = link['href']\n",
        "\n",
        "    # hoàn chỉnh successor\n",
        "    if (successor.find('//') == 0):\n",
        "      successor = pageParse.scheme + ':' + successor\n",
        "    if (successor.find('/') == 0):\n",
        "      successor = pageParse.scheme + '://' + pageParse.netloc + successor\n",
        "\n",
        "    # kiểm tra prefix và domain\n",
        "    successorParse = urlparse(successor)\n",
        "    successor = successorParse.scheme + '://' + successorParse.netloc + successorParse.path\n",
        "\n",
        "    if (domain not in successorParse.netloc):\n",
        "      continue\n",
        "    # if (page == successor):\n",
        "    #   continue\n",
        "\n",
        "    if (successor not in successors): # kiểm tra Successor đã tồn tại chưa\n",
        "\n",
        "      # kiểm tra số lượng dữ liệu\n",
        "      count += 1\n",
        "      print(count)\n",
        "      if (count > limit):\n",
        "        if len(data) > 0:\n",
        "          df = sqlc.createDataFrame(data,['Page', 'Successor'])\n",
        "          df.write.mode(\"append\").save(\"BIGDATA.parquet\", format=\"parquet\")\n",
        "        return\n",
        "\n",
        "      # lưu trữ Page, Successor\n",
        "      data.append((page, successor))\n",
        "      if (len(data) > 9):\n",
        "        df = sqlc.createDataFrame(data,['Page', 'Successor'])\n",
        "        df.write.mode(\"append\").save(\"BIGDATA.parquet\", format=\"parquet\")\n",
        "        data = []\n",
        "      successors |= {successor}\n",
        "\n",
        "    if (successor not in pages): # kiểm tra Page đã tồn tại chưa\n",
        "      # lưu trữ pages\n",
        "      pages |= {successor}\n",
        "\n",
        "      # tiếp tục với Page mới là Successor\n",
        "      run(successor)\n",
        "  \n",
        "  if len(data) > 0:\n",
        "    df = sqlc.createDataFrame(data,['Page', 'Successor'])\n",
        "    df.write.mode(\"append\").save(\"BIGDATA.parquet\", format=\"parquet\")\n",
        "    data = []\n",
        "\n",
        "run(page)"
      ],
      "metadata": {
        "id": "8mDjdq_znrDc"
      },
      "execution_count": null,
      "outputs": []
    },
    {
      "cell_type": "code",
      "source": [
        "df = sqlc.read.parquet(\"BIGDATA.parquet\")\n",
        "\n",
        "df.registerTempTable(\"PageRank\");"
      ],
      "metadata": {
        "id": "5Jv13dI0Vmx_"
      },
      "execution_count": null,
      "outputs": []
    },
    {
      "cell_type": "code",
      "source": [
        "data = sqlc.sql(\"\\\n",
        "  SELECT pr.*, od.OutDegree, de.DeadEnds \\\n",
        "  FROM PageRank pr \\\n",
        "  INNER JOIN ( \\\n",
        "    SELECT Page, COUNT(*) as OutDegree \\\n",
        "    FROM PageRank GROUP BY Page\\\n",
        "  ) od ON od.Page = pr.Page \\\n",
        "  INNER JOIN ( \\\n",
        "    SELECT DISTINCT s.Successor, (CASE WHEN p.Page IS NULL THEN 1 ELSE 0 END) AS DeadEnds \\\n",
        "    FROM PageRank s \\\n",
        "    LEFT JOIN PageRank as p ON p.Page = s.Successor \\\n",
        "  ) de ON de.Successor = pr.Successor \\\n",
        "\")\n",
        "\n",
        "data.show()"
      ],
      "metadata": {
        "id": "9eHfROsZLXny",
        "outputId": "c831368d-c29d-45ab-a269-b179dcfefbf0",
        "colab": {
          "base_uri": "https://localhost:8080/"
        }
      },
      "execution_count": null,
      "outputs": [
        {
          "output_type": "stream",
          "name": "stdout",
          "text": [
            "+--------------------+--------------------+---------+--------+\n",
            "|                Page|           Successor|OutDegree|DeadEnds|\n",
            "+--------------------+--------------------+---------+--------+\n",
            "|https://tdtu.edu....|https://tdtu.edu....|       42|       0|\n",
            "|https://tdtu.edu....|https://tdtu.edu....|       42|       0|\n",
            "|https://tdtu.edu....|https://tdtu.edu....|       49|       0|\n",
            "|https://tdtu.edu....|https://tdtu.edu....|       46|       0|\n",
            "|https://tdtu.edu....|https://tdtu.edu....|       46|       0|\n",
            "|https://tdtu.edu....|https://tdtu.edu....|       21|       0|\n",
            "|https://tdtu.edu....|https://tdtu.edu....|       33|       0|\n",
            "|https://tdtu.edu....|https://tdtu.edu....|       49|       0|\n",
            "|https://tdtu.edu....|https://tdtu.edu....|       43|       0|\n",
            "|https://tdtu.edu....|https://tdtu.edu....|       43|       0|\n",
            "|https://tdtu.edu....|https://tdtu.edu....|       33|       0|\n",
            "|https://tdtu.edu....|https://tdtu.edu....|       35|       0|\n",
            "|https://tdtu.edu....|https://tdtu.edu....|       35|       0|\n",
            "|https://tdtu.edu....|https://tdtu.edu....|       23|       0|\n",
            "|https://tdtu.edu....|https://tdtu.edu....|       21|       0|\n",
            "|https://tdtu.edu....|https://tdtu.edu....|       47|       0|\n",
            "|https://tdtu.edu....|https://tdtu.edu....|       47|       0|\n",
            "|https://tdtu.edu....|https://tdtu.edu....|       31|       0|\n",
            "|https://tdtu.edu....|https://tdtu.edu....|       31|       0|\n",
            "|https://tdtu.edu....|https://tdtu.edu....|       25|       0|\n",
            "+--------------------+--------------------+---------+--------+\n",
            "only showing top 20 rows\n",
            "\n"
          ]
        }
      ]
    },
    {
      "cell_type": "code",
      "source": [
        "Page = sqlc.sql(\"\\\n",
        "  SELECT Page \\\n",
        "  FROM ( \\\n",
        "    SELECT DISTINCT Page \\\n",
        "    FROM PageRank pr \\\n",
        "    UNION \\\n",
        "    SELECT DISTINCT Successor AS Page \\\n",
        "    FROM PageRank pr \\\n",
        "  ) \\\n",
        "\")\n",
        "\n",
        "mapping = dict()\n",
        "mapping_c = dict()\n",
        "\n",
        "each_len_expect = 256\n",
        "n_splits = limit // each_len_expect\n",
        "each_len = limit // n_splits\n",
        "\n",
        "i = 0\n",
        "copy_df = Page\n",
        "for i in range(n_splits):\n",
        "  temp_df = copy_df.limit(each_len)\n",
        "\n",
        "  copy_df = copy_df.subtract(temp_df)\n",
        "\n",
        "  for row in temp_df.collect():\n",
        "    mapping[row.Page] = str(i)\n",
        "    mapping_c[str(i)] = row.Page\n",
        "    i += 1\n",
        "\n",
        "n = len(mapping)\n",
        "mapping"
      ],
      "metadata": {
        "id": "sLzP87KG9I_Q"
      },
      "execution_count": null,
      "outputs": []
    },
    {
      "cell_type": "code",
      "source": [
        "tmp = sqlc.sql(\"\\\n",
        "  SELECT Page, Successor \\\n",
        "  FROM PageRank \\\n",
        "\")\n",
        "\n",
        "mappingDF = tmp.na.replace(mapping)\n",
        "mappingDF.show(truncate=False)"
      ],
      "metadata": {
        "id": "KXJdzw8rCmv6",
        "colab": {
          "base_uri": "https://localhost:8080/"
        },
        "outputId": "d4e5b4c6-6162-45c2-d33b-461b27cbc8d4"
      },
      "execution_count": null,
      "outputs": [
        {
          "output_type": "stream",
          "name": "stdout",
          "text": [
            "+----+---------+\n",
            "|Page|Successor|\n",
            "+----+---------+\n",
            "|35  |22       |\n",
            "|41  |35       |\n",
            "|79  |86       |\n",
            "|79  |86       |\n",
            "|35  |35       |\n",
            "|35  |22       |\n",
            "|22  |35       |\n",
            "|22  |22       |\n",
            "|22  |51       |\n",
            "|91  |45       |\n",
            "|91  |53       |\n",
            "|91  |85       |\n",
            "|91  |92       |\n",
            "|91  |80       |\n",
            "|22  |35       |\n",
            "|22  |51       |\n",
            "|13  |48       |\n",
            "|13  |87       |\n",
            "|13  |82       |\n",
            "|13  |5        |\n",
            "+----+---------+\n",
            "only showing top 20 rows\n",
            "\n"
          ]
        }
      ]
    },
    {
      "cell_type": "code",
      "source": [
        "import numpy as np\n",
        "\n",
        "matrix = np.zeros([n, n]) \n",
        "\n",
        "each_len_expect = 256\n",
        "n_splits = limit // each_len_expect\n",
        "each_len = limit // n_splits\n",
        "\n",
        "copy_df = mappingDF\n",
        "for i in range(n_splits):\n",
        "  temp_df = copy_df.limit(each_len)\n",
        "\n",
        "  copy_df = copy_df.subtract(temp_df)\n",
        "\n",
        "  for coor in temp_df.collect():\n",
        "    matrix[(int(coor['Page']), int(coor['Successor'])) ] = 1\n",
        "    \n",
        "matrix = np.transpose(matrix)\n",
        "matrix"
      ],
      "metadata": {
        "id": "PcABHERwBGqb",
        "outputId": "31a38815-dae5-457f-a425-8bf57611384e",
        "colab": {
          "base_uri": "https://localhost:8080/"
        }
      },
      "execution_count": null,
      "outputs": [
        {
          "output_type": "execute_result",
          "data": {
            "text/plain": [
              "array([[1., 0., 1., ..., 0., 1., 1.],\n",
              "       [0., 1., 0., ..., 0., 0., 0.],\n",
              "       [0., 0., 0., ..., 0., 0., 0.],\n",
              "       ...,\n",
              "       [0., 0., 0., ..., 0., 0., 0.],\n",
              "       [0., 0., 0., ..., 0., 1., 0.],\n",
              "       [0., 0., 1., ..., 0., 1., 1.]])"
            ]
          },
          "metadata": {},
          "execution_count": 59
        }
      ]
    },
    {
      "cell_type": "code",
      "source": [
        "def findM(G, N):\n",
        "  tmp = [] # tmp === r_tmp_new_j\n",
        "  for col_i in range(N):\n",
        "    \n",
        "      col = G[:, col_i]\n",
        "\n",
        "      if(np.sum(col) > 0): #no deadend\n",
        "        #divide r_i to number of out degree (number of values != 0)\n",
        "        out_dgs = (col > 0).sum()\n",
        "        tmp.append(col/out_dgs)\n",
        "      else: #deadend\n",
        "        tmp.append(np.array([0]*N))\n",
        "\n",
        "  return np.array(tmp).T #stochastic matrix with prob.\n",
        "\n",
        "def gg_pagerank(G, b, N):\n",
        "  r_j_old = np.array([ 1/N ]*N).T\n",
        "  r_j_new = np.array([ 0 ]*N).T\n",
        "\n",
        "  thresh_hold = 10**-8\n",
        "\n",
        "  ### stochastic matrix with prob in gg algo\n",
        "  M = findM(G,N)*b\n",
        "\n",
        "  ### leaked\n",
        "  leaked = (1-b)/N\n",
        "\n",
        "  ### begin iteration\n",
        "  while np.sum((np.absolute(r_j_new - r_j_old))) >= thresh_hold:\n",
        "    \n",
        "    ###update to exit while\n",
        "    r_j_old = r_j_new\n",
        "    r_j_new = M.dot(r_j_old) + leaked\n",
        "    \n",
        "    ###normalized\n",
        "    if(np.sum(r_j_new.T) < 1):\n",
        "      tmp = [r_j_new.T[i]/np.sum(r_j_new.T) for i in range(N)]\n",
        "      r_j_new = np.array(tmp).T\n",
        "\n",
        "  return r_j_new"
      ],
      "metadata": {
        "id": "NuLGPJhO_uue"
      },
      "execution_count": null,
      "outputs": []
    },
    {
      "cell_type": "code",
      "source": [
        "res = gg_pagerank(matrix,.8,n)\n",
        "print(res)\n",
        "np.sum(res)"
      ],
      "metadata": {
        "colab": {
          "base_uri": "https://localhost:8080/"
        },
        "id": "gFZgWrwZFy4B",
        "outputId": "c57029a0-e82b-4776-842a-67a56f874ff2"
      },
      "execution_count": null,
      "outputs": [
        {
          "output_type": "stream",
          "name": "stdout",
          "text": [
            "[0.00368081 0.0071864  0.00230333 0.00247548 0.01088685 0.01473154\n",
            " 0.00410872 0.00226929 0.00287592 0.0027744  0.002828   0.00341438\n",
            " 0.00225424 0.00215663 0.00231877 0.00313648 0.0091336  0.00290134\n",
            " 0.00266387 0.01107566 0.00408479 0.00256076 0.00365177 0.00225424\n",
            " 0.00290267 0.00220751 0.00219874 0.00239263 0.00230333 0.00322529\n",
            " 0.00215663 0.06155997 0.00237675 0.0020291  0.00257272 0.00409823\n",
            " 0.00219876 0.00215663 0.00273058 0.00265579 0.00220711 0.00377502\n",
            " 0.00222691 0.00558055 0.00218046 0.00376977 0.00664908 0.00256076\n",
            " 0.07822604 0.00830231 0.00215663 0.00319515 0.00248289 0.00706425\n",
            " 0.00220798 0.00237675 0.00218137 0.00218181 0.00999907 0.00223908\n",
            " 0.00241914 0.00309609 0.11045984 0.0020291  0.00334177 0.01319261\n",
            " 0.00219876 0.00403526 0.00221697 0.01070447 0.00215663 0.0024547\n",
            " 0.00869227 0.03302918 0.05715121 0.00223908 0.05122504 0.03171036\n",
            " 0.00215045 0.00273468 0.00215045 0.0020291  0.07761819 0.06156488\n",
            " 0.00264699 0.00215045 0.00235394 0.1009051  0.00220711 0.00522057\n",
            " 0.0079886  0.00219876 0.00215045 0.003477   0.0020291  0.0020291\n",
            " 0.0020291  0.00256652 0.00215663 0.00271949 0.00225098 0.00326434]\n"
          ]
        },
        {
          "output_type": "execute_result",
          "data": {
            "text/plain": [
              "0.9999999999999998"
            ]
          },
          "metadata": {},
          "execution_count": 63
        }
      ]
    },
    {
      "cell_type": "code",
      "source": [
        "ranksDF = sqlc.createDataFrame([(mapping_c[str(i)], str(res[i])) for i in range(n)], ['Page', 'PageRank'])\n",
        "ranksDF.show(10, truncate=False)"
      ],
      "metadata": {
        "colab": {
          "base_uri": "https://localhost:8080/"
        },
        "id": "CUhnOINuDxgP",
        "outputId": "53a6ffc9-91d4-44b4-98e0-bf7eb9bef12d"
      },
      "execution_count": null,
      "outputs": [
        {
          "output_type": "stream",
          "name": "stdout",
          "text": [
            "+---------------------------------------------------------------------------------------------+---------------------+\n",
            "|Page                                                                                         |PageRank             |\n",
            "+---------------------------------------------------------------------------------------------+---------------------+\n",
            "|https://tdtu.edu.vn/en/about/mission-vision-quality-policy                                   |0.003680807587862185 |\n",
            "|https://tdtu.edu.vn/nghien-cuu                                                               |0.007186403744435274 |\n",
            "|https://tdtu.edu.vn/en/about/department/department-for-facility-management                   |0.0023033343046450143|\n",
            "|https://college.tdtu.edu.vn/user/password                                                    |0.002475479907157273 |\n",
            "|https://college.tdtu.edu.vn/tuyensinh                                                        |0.010886852029395913 |\n",
            "|https://college.tdtu.edu.vn/tin-tuc                                                          |0.014731543103096335 |\n",
            "|https://tdtu.edu.vn/quoc-te-hoa                                                              |0.004108720090448394 |\n",
            "|https://college.tdtu.edu.vn/taxonomy/term/61                                                 |0.002269292780151624 |\n",
            "|https://tdtu.edu.vn/sinh-vien-hoc-vien                                                       |0.0028759225238115006|\n",
            "|https://tdtu.edu.vn/en/about/rankings/number-122-world-sustainable-development-ui-greenmetric|0.002774400774332401 |\n",
            "+---------------------------------------------------------------------------------------------+---------------------+\n",
            "only showing top 10 rows\n",
            "\n"
          ]
        }
      ]
    }
  ]
}